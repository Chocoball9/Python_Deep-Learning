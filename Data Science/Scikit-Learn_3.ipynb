{
 "nbformat": 4,
 "nbformat_minor": 2,
 "metadata": {
  "language_info": {
   "name": "python",
   "codemirror_mode": {
    "name": "ipython",
    "version": 3
   },
   "version": "3.7.6-final"
  },
  "orig_nbformat": 2,
  "file_extension": ".py",
  "mimetype": "text/x-python",
  "name": "python",
  "npconvert_exporter": "python",
  "pygments_lexer": "ipython3",
  "version": 3,
  "kernelspec": {
   "name": "python37664bitdl4cvvenvd806604da1114886bc2c876f62ff243f",
   "display_name": "Python 3.7.6 64-bit ('dl4cv': venv)"
  }
 },
 "cells": [
  {
   "cell_type": "code",
   "execution_count": 29,
   "metadata": {},
   "outputs": [],
   "source": [
    "from sklearn.impute import SimpleImputer \n",
    "imputer = SimpleImputer(strategy='mean')"
   ]
  },
  {
   "cell_type": "code",
   "execution_count": 30,
   "metadata": {},
   "outputs": [
    {
     "output_type": "execute_result",
     "data": {
      "text/plain": "['cold', 'cold', 'warm', 'cold', 'hot', 'hot', 'warm', 'cold', 'warm', 'hot']"
     },
     "metadata": {},
     "execution_count": 30
    }
   ],
   "source": [
    "from numpy import argmax\n",
    "from numpy import array\n",
    "# สร้าง Data เล่นๆ\n",
    "data = ['cold','cold','warm','cold','hot','hot','warm','cold','warm','hot']\n",
    "data"
   ]
  },
  {
   "cell_type": "code",
   "execution_count": 31,
   "metadata": {},
   "outputs": [],
   "source": [
    "Classification = ['cold','warm','hot']"
   ]
  },
  {
   "cell_type": "code",
   "execution_count": 32,
   "metadata": {},
   "outputs": [],
   "source": [
    "# แปลง classification ข้างบน ให้อยู้ในรูป 0,1,2,3 ...\n",
    "class_to_int = dict((c,i) for i,c in enumerate(Classification))\n",
    "int_to_class = dict((i,c) for i,c in enumerate(Classification))\n",
    ""
   ]
  },
  {
   "cell_type": "code",
   "execution_count": 33,
   "metadata": {},
   "outputs": [
    {
     "output_type": "execute_result",
     "data": {
      "text/plain": "{'cold': 0, 'warm': 1, 'hot': 2}"
     },
     "metadata": {},
     "execution_count": 33
    }
   ],
   "source": [
    "class_to_int"
   ]
  },
  {
   "cell_type": "code",
   "execution_count": 34,
   "metadata": {},
   "outputs": [
    {
     "output_type": "execute_result",
     "data": {
      "text/plain": "{0: 'cold', 1: 'warm', 2: 'hot'}"
     },
     "metadata": {},
     "execution_count": 34
    }
   ],
   "source": [
    "int_to_class"
   ]
  },
  {
   "cell_type": "code",
   "execution_count": 35,
   "metadata": {},
   "outputs": [
    {
     "output_type": "execute_result",
     "data": {
      "text/plain": "[0, 0, 1, 0, 2, 2, 1, 0, 1, 2]"
     },
     "metadata": {},
     "execution_count": 35
    }
   ],
   "source": [
    "# int encode สำหรับ Input Data\n",
    "integer_encoded = [class_to_int[__class] for __class in data]\n",
    "integer_encoded"
   ]
  },
  {
   "cell_type": "code",
   "execution_count": 36,
   "metadata": {},
   "outputs": [
    {
     "output_type": "execute_result",
     "data": {
      "text/plain": "[[1, 0, 0],\n [1, 0, 0],\n [0, 1, 0],\n [1, 0, 0],\n [0, 0, 1],\n [0, 0, 1],\n [0, 1, 0],\n [1, 0, 0],\n [0, 1, 0],\n [0, 0, 1]]"
     },
     "metadata": {},
     "execution_count": 36
    }
   ],
   "source": [
    "onehot_encoded = list()\n",
    "for value in integer_encoded:\n",
    "    one_hot_class = [0 for _ in range(len(Classification))]\n",
    "    one_hot_class[value] = 1\n",
    "    onehot_encoded.append(one_hot_class)\n",
    "onehot_encoded"
   ]
  },
  {
   "cell_type": "code",
   "execution_count": 37,
   "metadata": {},
   "outputs": [
    {
     "output_type": "execute_result",
     "data": {
      "text/plain": "'warm'"
     },
     "metadata": {},
     "execution_count": 37
    }
   ],
   "source": [
    "#ลองเทสว่า แปลงถูกมัย โดยการ invert ค่ากลับ\n",
    "#argmax ตัวไหนที่มีค่ามากที่สุด\n",
    "inverted = int_to_class[argmax(onehot_encoded[8])]\n",
    "inverted"
   ]
  },
  {
   "cell_type": "code",
   "execution_count": 38,
   "metadata": {},
   "outputs": [],
   "source": [
    "#################### Scikit-learn #################### "
   ]
  },
  {
   "cell_type": "code",
   "execution_count": 39,
   "metadata": {},
   "outputs": [
    {
     "output_type": "execute_result",
     "data": {
      "text/plain": "['cold', 'cold', 'warm', 'cold', 'hot', 'hot', 'warm', 'cold', 'warm', 'hot']"
     },
     "metadata": {},
     "execution_count": 39
    }
   ],
   "source": [
    "from sklearn.preprocessing import LabelEncoder\n",
    "from sklearn.preprocessing import OneHotEncoder\n",
    "import numpy \n",
    "\n",
    "data = ['cold','cold','warm','cold','hot','hot','warm','cold','warm','hot']\n",
    "\n",
    "data"
   ]
  },
  {
   "cell_type": "code",
   "execution_count": 40,
   "metadata": {},
   "outputs": [
    {
     "output_type": "execute_result",
     "data": {
      "text/plain": "array([0, 0, 2, 0, 1, 1, 2, 0, 2, 1])"
     },
     "metadata": {},
     "execution_count": 40
    }
   ],
   "source": [
    "label_encoder = LabelEncoder()\n",
    "integer_encoded = label_encoder.fit_transform(data)\n",
    "integer_encoded"
   ]
  },
  {
   "cell_type": "code",
   "execution_count": 41,
   "metadata": {},
   "outputs": [
    {
     "output_type": "execute_result",
     "data": {
      "text/plain": "['cold', 'cold', 'warm', 'cold', 'hot', 'hot', 'warm', 'cold', 'warm', 'hot']"
     },
     "metadata": {},
     "execution_count": 41
    }
   ],
   "source": [
    "data"
   ]
  },
  {
   "cell_type": "code",
   "execution_count": 42,
   "metadata": {},
   "outputs": [],
   "source": [
    "# ทำไม error อ่า\n",
    "#onehot_encoder = OneHotEncoder(sparse=False)\n",
    "#onehot_encoded = onehot_encoder.fit_transform(integer_encoded)\n",
    "#one_hot_encoded"
   ]
  },
  {
   "cell_type": "code",
   "execution_count": 43,
   "metadata": {},
   "outputs": [
    {
     "output_type": "execute_result",
     "data": {
      "text/plain": "['cold', 'cold', 'warm', 'cold', 'hot', 'hot', 'warm', 'cold', 'warm', 'hot']"
     },
     "metadata": {},
     "execution_count": 43
    }
   ],
   "source": [
    "from sklearn.preprocessing import LabelBinarizer\n",
    "data = ['cold','cold','warm','cold','hot','hot','warm','cold','warm','hot']\n",
    "\n",
    "data"
   ]
  },
  {
   "cell_type": "code",
   "execution_count": 44,
   "metadata": {},
   "outputs": [
    {
     "output_type": "execute_result",
     "data": {
      "text/plain": "array([[1, 0, 0],\n       [1, 0, 0],\n       [0, 0, 1],\n       [1, 0, 0],\n       [0, 1, 0],\n       [0, 1, 0],\n       [0, 0, 1],\n       [1, 0, 0],\n       [0, 0, 1],\n       [0, 1, 0]])"
     },
     "metadata": {},
     "execution_count": 44
    }
   ],
   "source": [
    "endcoder = LabelBinarizer()\n",
    "onehot_encoded = endcoder.fit_transform(data)\n",
    "onehot_encoded "
   ]
  },
  {
   "cell_type": "code",
   "execution_count": null,
   "metadata": {},
   "outputs": [],
   "source": []
  }
 ]
}