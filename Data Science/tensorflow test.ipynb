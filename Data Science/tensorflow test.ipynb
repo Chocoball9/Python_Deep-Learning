{
 "nbformat": 4,
 "nbformat_minor": 2,
 "metadata": {
  "language_info": {
   "name": "python",
   "codemirror_mode": {
    "name": "ipython",
    "version": 3
   },
   "version": "3.7.6-final"
  },
  "orig_nbformat": 2,
  "file_extension": ".py",
  "mimetype": "text/x-python",
  "name": "python",
  "npconvert_exporter": "python",
  "pygments_lexer": "ipython3",
  "version": 3,
  "kernelspec": {
   "name": "python37664bitdl4cvvenvd806604da1114886bc2c876f62ff243f",
   "display_name": "Python 3.7.6 64-bit ('dl4cv': venv)"
  }
 },
 "cells": [
  {
   "cell_type": "code",
   "execution_count": 1,
   "metadata": {},
   "outputs": [],
   "source": [
    "import tensorflow as tf"
   ]
  },
  {
   "cell_type": "code",
   "execution_count": 2,
   "metadata": {},
   "outputs": [],
   "source": [
    "from tensorflow.keras.datasets import mnist\n",
    "from tensorflow.keras.models import Sequential\n",
    "from tensorflow.keras.layers import Dense, Dropout\n",
    "from tensorflow.keras.layers import Flatten,  MaxPooling2D, Conv2D"
   ]
  },
  {
   "cell_type": "code",
   "execution_count": 3,
   "metadata": {},
   "outputs": [],
   "source": [
    "(X_train,y_train), (X_test, y_test) = mnist.load_data()"
   ]
  },
  {
   "cell_type": "code",
   "execution_count": 4,
   "metadata": {},
   "outputs": [],
   "source": [
    "X_train = X_train.reshape(60000,28,28,1).astype('float32')\n",
    "X_test = X_test.reshape(10000,28,28,1).astype('float32')"
   ]
  },
  {
   "cell_type": "code",
   "execution_count": 5,
   "metadata": {},
   "outputs": [],
   "source": [
    "X_train /= 255\n",
    "X_test /= 255"
   ]
  },
  {
   "cell_type": "code",
   "execution_count": 6,
   "metadata": {},
   "outputs": [],
   "source": [
    "n_classes = 10\n",
    "y_train = tf.keras.utils.to_categorical(y_train, n_classes)\n",
    "y_test = tf.keras.utils.to_categorical(y_test, n_classes)"
   ]
  },
  {
   "cell_type": "code",
   "execution_count": 7,
   "metadata": {},
   "outputs": [],
   "source": [
    "model = Sequential([\n",
    "\t\t\tConv2D(32, kernel_size=(3,3), activation='relu', input_shape=(28,28,1)),\n",
    "\t\t\tConv2D(64, kernel_size=(3,3), activation='relu'),\n",
    "\t\t\tMaxPooling2D(pool_size=(2,2)),\n",
    "\t\t\tDropout(0.25),\n",
    "\t\t\tFlatten(),\n",
    "\t\t\tDense(128, activation='relu'),\n",
    "\t\t\tDropout(0.5),\n",
    "\t\t\tDense(n_classes, activation='softmax')\n",
    "\t\t])"
   ]
  },
  {
   "cell_type": "code",
   "execution_count": 9,
   "metadata": {},
   "outputs": [],
   "source": [
    "model.compile(loss='categorical_crossentropy', optimizer='adam', metrics=['accuracy'])"
   ]
  },
  {
   "cell_type": "code",
   "execution_count": 10,
   "metadata": {},
   "outputs": [
    {
     "output_type": "stream",
     "name": "stdout",
     "text": "Train on 60000 samples, validate on 10000 samples\nEpoch 1/10\n60000/60000 [==============================] - 87s 1ms/sample - loss: 0.2313 - accuracy: 0.9289 - val_loss: 0.0551 - val_accuracy: 0.9823\nEpoch 2/10\n60000/60000 [==============================] - 82s 1ms/sample - loss: 0.0817 - accuracy: 0.9756 - val_loss: 0.0381 - val_accuracy: 0.9879\nEpoch 3/10\n60000/60000 [==============================] - 82s 1ms/sample - loss: 0.0609 - accuracy: 0.9817 - val_loss: 0.0372 - val_accuracy: 0.9883\nEpoch 4/10\n60000/60000 [==============================] - 83s 1ms/sample - loss: 0.0514 - accuracy: 0.9844 - val_loss: 0.0309 - val_accuracy: 0.9897\nEpoch 5/10\n60000/60000 [==============================] - 82s 1ms/sample - loss: 0.0425 - accuracy: 0.9866 - val_loss: 0.0297 - val_accuracy: 0.9906\nEpoch 6/10\n60000/60000 [==============================] - 82s 1ms/sample - loss: 0.0361 - accuracy: 0.9881 - val_loss: 0.0301 - val_accuracy: 0.9907\nEpoch 7/10\n60000/60000 [==============================] - 80s 1ms/sample - loss: 0.0323 - accuracy: 0.9899 - val_loss: 0.0280 - val_accuracy: 0.9928\nEpoch 8/10\n60000/60000 [==============================] - 79s 1ms/sample - loss: 0.0277 - accuracy: 0.9911 - val_loss: 0.0284 - val_accuracy: 0.9914\nEpoch 9/10\n60000/60000 [==============================] - 80s 1ms/sample - loss: 0.0264 - accuracy: 0.9912 - val_loss: 0.0286 - val_accuracy: 0.9920\nEpoch 10/10\n60000/60000 [==============================] - 81s 1ms/sample - loss: 0.0234 - accuracy: 0.9922 - val_loss: 0.0281 - val_accuracy: 0.9924\n"
    },
    {
     "output_type": "execute_result",
     "data": {
      "text/plain": "<tensorflow.python.keras.callbacks.History at 0x14a780b50>"
     },
     "metadata": {},
     "execution_count": 10
    }
   ],
   "source": [
    "model.fit(X_train, y_train, batch_size=128, epochs=10, verbose=1,\n",
    "          validation_data=(X_test,y_test))"
   ]
  },
  {
   "cell_type": "code",
   "execution_count": null,
   "metadata": {},
   "outputs": [],
   "source": []
  }
 ]
}